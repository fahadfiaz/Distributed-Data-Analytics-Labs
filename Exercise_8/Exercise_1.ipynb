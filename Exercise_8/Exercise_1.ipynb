{
 "cells": [
  {
   "cell_type": "code",
   "execution_count": 1,
   "metadata": {},
   "outputs": [
    {
     "data": {
      "text/plain": [
       "'D:\\\\spark-2.4.6-bin-hadoop2.7'"
      ]
     },
     "execution_count": 1,
     "metadata": {},
     "output_type": "execute_result"
    }
   ],
   "source": [
    "import findspark\n",
    "import matplotlib.pyplot as plt\n",
    "findspark.init()\n",
    "findspark.find()\n",
    "import pyspark\n",
    "findspark.find()"
   ]
  },
  {
   "cell_type": "code",
   "execution_count": 2,
   "metadata": {},
   "outputs": [],
   "source": [
    "from pyspark import SparkContext, SparkConf\n",
    "import numpy as np\n",
    "import pandas as pd\n",
    "from pyspark.sql.functions import mean , stddev, col, to_date, date_format\n",
    "import pyspark.sql.functions as F\n",
    "from time import strptime\n",
    "import datetime\n",
    "from ast import literal_eval\n",
    "\n",
    "\n",
    "from pyspark.sql import SparkSession\n",
    "conf = pyspark.SparkConf().setAppName('SparkApp').setMaster('local')\n",
    "sc = pyspark.SparkContext(conf=conf)\n",
    "spark=SparkSession(sc)"
   ]
  },
  {
   "cell_type": "code",
   "execution_count": 3,
   "metadata": {},
   "outputs": [],
   "source": [
    "#Part a : 1)\n",
    "a = [\"spark\", \"rdd\", \"python\", \"context\", \"create\", \"class\"]\n",
    "b = [\"operation\", \"apache\", \"scala\", \"lambda\",\"parallel\",\"partition\"]\n",
    "\n",
    "new_a=map(lambda x: (x[1],x[0]), enumerate(a))\n",
    "new_b=map(lambda x: (x[1],x[0]), enumerate(b))\n",
    "rdd_a=sc.parallelize(new_a) \n",
    "rdd_b=sc.parallelize(new_b)\n",
    "rightOuterJoin = rdd_a.leftOuterJoin(rdd_b).collect()\n",
    "fullOuterJoin = rdd_a.fullOuterJoin(rdd_b).collect()"
   ]
  },
  {
   "cell_type": "code",
   "execution_count": 4,
   "metadata": {},
   "outputs": [
    {
     "data": {
      "text/plain": [
       "[('python', (2, None)),\n",
       " ('class', (5, None)),\n",
       " ('spark', (0, None)),\n",
       " ('rdd', (1, None)),\n",
       " ('context', (3, None)),\n",
       " ('create', (4, None))]"
      ]
     },
     "execution_count": 4,
     "metadata": {},
     "output_type": "execute_result"
    }
   ],
   "source": [
    "rightOuterJoin"
   ]
  },
  {
   "cell_type": "code",
   "execution_count": 5,
   "metadata": {},
   "outputs": [
    {
     "data": {
      "text/plain": [
       "[('python', (2, None)),\n",
       " ('class', (5, None)),\n",
       " ('scala', (None, 2)),\n",
       " ('parallel', (None, 4)),\n",
       " ('partition', (None, 5)),\n",
       " ('spark', (0, None)),\n",
       " ('rdd', (1, None)),\n",
       " ('context', (3, None)),\n",
       " ('create', (4, None)),\n",
       " ('operation', (None, 0)),\n",
       " ('apache', (None, 1)),\n",
       " ('lambda', (None, 3))]"
      ]
     },
     "execution_count": 5,
     "metadata": {},
     "output_type": "execute_result"
    }
   ],
   "source": [
    "fullOuterJoin"
   ]
  },
  {
   "cell_type": "code",
   "execution_count": 6,
   "metadata": {},
   "outputs": [
    {
     "data": {
      "text/plain": [
       "[('s', 4)]"
      ]
     },
     "execution_count": 6,
     "metadata": {},
     "output_type": "execute_result"
    }
   ],
   "source": [
    "#Part a : 2)\n",
    "rdd_a=sc.parallelize(a) \n",
    "rdd_b=sc.parallelize(b)\n",
    "rdd_a.union(rdd_b).flatMap(lambda x: x).filter(lambda x: x == 's').map(lambda x: (x,1)).reduceByKey(lambda x,y: x+y).collect()"
   ]
  },
  {
   "cell_type": "code",
   "execution_count": 7,
   "metadata": {},
   "outputs": [
    {
     "data": {
      "text/plain": [
       "4"
      ]
     },
     "execution_count": 7,
     "metadata": {},
     "output_type": "execute_result"
    }
   ],
   "source": [
    "#Part a : 3)\n",
    "rdd_a.union(rdd_b).flatMap(lambda x: x).filter(lambda x: x == 's').aggregate(0,(lambda i, value: i + 1),(lambda i, j: (i + j)))"
   ]
  },
  {
   "cell_type": "markdown",
   "metadata": {},
   "source": [
    "Part B"
   ]
  },
  {
   "cell_type": "code",
   "execution_count": 8,
   "metadata": {},
   "outputs": [],
   "source": [
    "students_data= sc.textFile('E:\\DDA\\Exercise_8\\students.json').collect()"
   ]
  },
  {
   "cell_type": "code",
   "execution_count": 10,
   "metadata": {},
   "outputs": [],
   "source": [
    "df = spark.read.json(sc.parallelize(students_data))\n",
    "#df.show(truncate=False)"
   ]
  },
  {
   "cell_type": "code",
   "execution_count": 11,
   "metadata": {},
   "outputs": [
    {
     "name": "stdout",
     "output_type": "stream",
     "text": [
      "+------------------+------------------+----------+---------+------------------+----+\n",
      "|            course|               dob|first_name|last_name|            points|s_id|\n",
      "+------------------+------------------+----------+---------+------------------+----+\n",
      "|Humanities and Art|  October 14, 1983|      Alan|      Joe|              10.0|   1|\n",
      "|  Computer Science|September 26, 1980|    Martin|  Genberg|              17.0|   2|\n",
      "|    Graphic Design|     June 12, 1982|     Athur|   Watson|              16.0|   3|\n",
      "|    Graphic Design|     April 5, 1987|  Anabelle|  Sanberg|              12.0|   4|\n",
      "|        Psychology|  November 1, 1978|      Kira| Schommer|              11.0|   5|\n",
      "|          Business|  17 February 1981| Christian|   Kiriam|              10.0|   6|\n",
      "|  Machine Learning|    1 January 1984|   Barbara|  Ballard|              14.0|   7|\n",
      "|     Deep Learning|  January 13, 1978|      John|     null|              10.0|   8|\n",
      "|  Machine Learning|  26 December 1989|    Marcus|   Carson|              15.0|   9|\n",
      "|           Physics|  30 December 1987|     Marta|   Brooks|              11.0|  10|\n",
      "|    Data Analytics|     June 12, 1975|     Holly| Schwartz|              12.0|  11|\n",
      "|  Computer Science|      July 2, 1985|     April|    Black|11.736842105263158|  12|\n",
      "|  Computer Science|     July 22, 1980|     Irene|  Bradley|              13.0|  13|\n",
      "|        Psychology|   7 February 1986|      Mark|    Weber|              12.0|  14|\n",
      "|       Informatics|      May 18, 1987|     Rosie|   Norman|               9.0|  15|\n",
      "|          Business|   August 10, 1984|    Martin|   Steele|               7.0|  16|\n",
      "|  Machine Learning|  16 December 1990|     Colin| Martinez|               9.0|  17|\n",
      "|    Data Analytics|              null|   Bridget|    Twain|               6.0|  18|\n",
      "|          Business|      7 March 1980|   Darlene|    Mills|              19.0|  19|\n",
      "|    Data Analytics|      June 2, 1985|   Zachary|     null|              10.0|  20|\n",
      "+------------------+------------------+----------+---------+------------------+----+\n",
      "\n"
     ]
    }
   ],
   "source": [
    "mean_value = df.select(mean(col('points')).alias('mean') ).collect()[0]['mean']\n",
    "new_df = df.fillna({'points':mean_value})\n",
    "new_df.show()"
   ]
  },
  {
   "cell_type": "code",
   "execution_count": 12,
   "metadata": {},
   "outputs": [
    {
     "name": "stdout",
     "output_type": "stream",
     "text": [
      "+------------------+------------------+----------+---------+------------------+----+\n",
      "|            course|               dob|first_name|last_name|            points|s_id|\n",
      "+------------------+------------------+----------+---------+------------------+----+\n",
      "|Humanities and Art|  October 14, 1983|      Alan|      Joe|              10.0|   1|\n",
      "|  Computer Science|September 26, 1980|    Martin|  Genberg|              17.0|   2|\n",
      "|    Graphic Design|     June 12, 1982|     Athur|   Watson|              16.0|   3|\n",
      "|    Graphic Design|     April 5, 1987|  Anabelle|  Sanberg|              12.0|   4|\n",
      "|        Psychology|  November 1, 1978|      Kira| Schommer|              11.0|   5|\n",
      "|          Business|  17 February 1981| Christian|   Kiriam|              10.0|   6|\n",
      "|  Machine Learning|    1 January 1984|   Barbara|  Ballard|              14.0|   7|\n",
      "|     Deep Learning|  January 13, 1978|      John|       --|              10.0|   8|\n",
      "|  Machine Learning|  26 December 1989|    Marcus|   Carson|              15.0|   9|\n",
      "|           Physics|  30 December 1987|     Marta|   Brooks|              11.0|  10|\n",
      "|    Data Analytics|     June 12, 1975|     Holly| Schwartz|              12.0|  11|\n",
      "|  Computer Science|      July 2, 1985|     April|    Black|11.736842105263158|  12|\n",
      "|  Computer Science|     July 22, 1980|     Irene|  Bradley|              13.0|  13|\n",
      "|        Psychology|   7 February 1986|      Mark|    Weber|              12.0|  14|\n",
      "|       Informatics|      May 18, 1987|     Rosie|   Norman|               9.0|  15|\n",
      "|          Business|   August 10, 1984|    Martin|   Steele|               7.0|  16|\n",
      "|  Machine Learning|  16 December 1990|     Colin| Martinez|               9.0|  17|\n",
      "|    Data Analytics|           unknown|   Bridget|    Twain|               6.0|  18|\n",
      "|          Business|      7 March 1980|   Darlene|    Mills|              19.0|  19|\n",
      "|    Data Analytics|      June 2, 1985|   Zachary|       --|              10.0|  20|\n",
      "+------------------+------------------+----------+---------+------------------+----+\n",
      "\n"
     ]
    }
   ],
   "source": [
    "new_df = new_df.fillna({'dob':\"unknown\"})\n",
    "new_df = new_df.fillna({'last_name':\"--\"})\n",
    "new_df.show()"
   ]
  },
  {
   "cell_type": "code",
   "execution_count": 14,
   "metadata": {},
   "outputs": [
    {
     "name": "stdout",
     "output_type": "stream",
     "text": [
      "+------------------+----------+----------+---------+------------------+----+\n",
      "|            course|       dob|first_name|last_name|            points|s_id|\n",
      "+------------------+----------+----------+---------+------------------+----+\n",
      "|Humanities and Art|14-10-1983|      Alan|      Joe|              10.0|   1|\n",
      "|  Computer Science|26-09-1980|    Martin|  Genberg|              17.0|   2|\n",
      "|    Graphic Design|12-06-1982|     Athur|   Watson|              16.0|   3|\n",
      "|    Graphic Design|05-04-1987|  Anabelle|  Sanberg|              12.0|   4|\n",
      "|        Psychology|01-11-1978|      Kira| Schommer|              11.0|   5|\n",
      "|          Business|17-02-1981| Christian|   Kiriam|              10.0|   6|\n",
      "|  Machine Learning|01-01-1984|   Barbara|  Ballard|              14.0|   7|\n",
      "|     Deep Learning|13-01-1978|      John|       --|              10.0|   8|\n",
      "|  Machine Learning|26-12-1989|    Marcus|   Carson|              15.0|   9|\n",
      "|           Physics|30-12-1987|     Marta|   Brooks|              11.0|  10|\n",
      "|    Data Analytics|12-06-1975|     Holly| Schwartz|              12.0|  11|\n",
      "|  Computer Science|02-07-1985|     April|    Black|11.736842105263158|  12|\n",
      "|  Computer Science|22-07-1980|     Irene|  Bradley|              13.0|  13|\n",
      "|        Psychology|07-02-1986|      Mark|    Weber|              12.0|  14|\n",
      "|       Informatics|18-05-1987|     Rosie|   Norman|               9.0|  15|\n",
      "|          Business|10-08-1984|    Martin|   Steele|               7.0|  16|\n",
      "|  Machine Learning|16-12-1990|     Colin| Martinez|               9.0|  17|\n",
      "|    Data Analytics|   unknown|   Bridget|    Twain|               6.0|  18|\n",
      "|          Business|07-03-1980|   Darlene|    Mills|              19.0|  19|\n",
      "|    Data Analytics|02-06-1985|   Zachary|       --|              10.0|  20|\n",
      "+------------------+----------+----------+---------+------------------+----+\n",
      "\n"
     ]
    }
   ],
   "source": [
    "from pyspark.sql.types import StringType\n",
    "def change_date(dob_col):\n",
    "    months = [\"January\",\"February\",\"March\",\"April\",\"May\",\"June\",\"July\",\"August\",\"September\",\"October\",\"November\",\"December\"]\n",
    "    days= np.arange(1,32)\n",
    "    if(dob_col != \"unknown\"):\n",
    "        date_formatted =  ','.join(dob_col.split()).replace(\",,\",\",\").split(\",\")\n",
    "        updated_date_formatted = [\"\",\"\",\"\"]\n",
    "        for x in date_formatted:\n",
    "            if(x in days.astype(str)):\n",
    "                updated_date_formatted[0] = x.zfill(2)\n",
    "            elif(x in months):\n",
    "                updated_date_formatted[1] = str(strptime(x,'%B').tm_mon).zfill(2)\n",
    "            else:\n",
    "                updated_date_formatted[2] = x\n",
    "        return '-'.join(updated_date_formatted)\n",
    "    else:\n",
    "        return dob_col\n",
    "\n",
    "udfsomefunc = F.udf(change_date, StringType())\n",
    "df_with_change_date = new_df.withColumn(\"dob\", udfsomefunc(\"dob\"))\n",
    "df_with_change_date.show()"
   ]
  },
  {
   "cell_type": "code",
   "execution_count": 15,
   "metadata": {},
   "outputs": [
    {
     "name": "stdout",
     "output_type": "stream",
     "text": [
      "+------------------+----------+----------+---------+------------------+----+-------+\n",
      "|            course|       dob|first_name|last_name|            points|s_id|    age|\n",
      "+------------------+----------+----------+---------+------------------+----+-------+\n",
      "|Humanities and Art|14-10-1983|      Alan|      Joe|              10.0|   1|     36|\n",
      "|  Computer Science|26-09-1980|    Martin|  Genberg|              17.0|   2|     39|\n",
      "|    Graphic Design|12-06-1982|     Athur|   Watson|              16.0|   3|     37|\n",
      "|    Graphic Design|05-04-1987|  Anabelle|  Sanberg|              12.0|   4|     33|\n",
      "|        Psychology|01-11-1978|      Kira| Schommer|              11.0|   5|     42|\n",
      "|          Business|17-02-1981| Christian|   Kiriam|              10.0|   6|     39|\n",
      "|  Machine Learning|01-01-1984|   Barbara|  Ballard|              14.0|   7|     36|\n",
      "|     Deep Learning|13-01-1978|      John|       --|              10.0|   8|     42|\n",
      "|  Machine Learning|26-12-1989|    Marcus|   Carson|              15.0|   9|     30|\n",
      "|           Physics|30-12-1987|     Marta|   Brooks|              11.0|  10|     32|\n",
      "|    Data Analytics|12-06-1975|     Holly| Schwartz|              12.0|  11|     44|\n",
      "|  Computer Science|02-07-1985|     April|    Black|11.736842105263158|  12|     35|\n",
      "|  Computer Science|22-07-1980|     Irene|  Bradley|              13.0|  13|     39|\n",
      "|        Psychology|07-02-1986|      Mark|    Weber|              12.0|  14|     34|\n",
      "|       Informatics|18-05-1987|     Rosie|   Norman|               9.0|  15|     33|\n",
      "|          Business|10-08-1984|    Martin|   Steele|               7.0|  16|     35|\n",
      "|  Machine Learning|16-12-1990|     Colin| Martinez|               9.0|  17|     29|\n",
      "|    Data Analytics|   unknown|   Bridget|    Twain|               6.0|  18|unknown|\n",
      "|          Business|07-03-1980|   Darlene|    Mills|              19.0|  19|     40|\n",
      "|    Data Analytics|02-06-1985|   Zachary|       --|              10.0|  20|     35|\n",
      "+------------------+----------+----------+---------+------------------+----+-------+\n",
      "\n"
     ]
    }
   ],
   "source": [
    "def calculate_age(date_col):\n",
    "    if(date_col != \"unknown\"):\n",
    "        age=pd.to_datetime(datetime.date.today()) - pd.to_datetime(date_col)\n",
    "        return age.days // 365\n",
    "    else:\n",
    "        return date_col\n",
    "\n",
    "udfsomefunc = F.udf(calculate_age, StringType())\n",
    "df_with_age = df_with_change_date.withColumn(\"age\", udfsomefunc(\"dob\"))\n",
    "df_with_age.show()"
   ]
  },
  {
   "cell_type": "code",
   "execution_count": 16,
   "metadata": {},
   "outputs": [
    {
     "name": "stdout",
     "output_type": "stream",
     "text": [
      "11.736842105263158 15.06754282004706\n",
      "+------------------+----------+----------+---------+------------------+----+-------+\n",
      "|            course|       dob|first_name|last_name|            points|s_id|    age|\n",
      "+------------------+----------+----------+---------+------------------+----+-------+\n",
      "|Humanities and Art|14-10-1983|      Alan|      Joe|              10.0|   1|     36|\n",
      "|  Computer Science|26-09-1980|    Martin|  Genberg|                20|   2|     39|\n",
      "|    Graphic Design|12-06-1982|     Athur|   Watson|                20|   3|     37|\n",
      "|    Graphic Design|05-04-1987|  Anabelle|  Sanberg|              12.0|   4|     33|\n",
      "|        Psychology|01-11-1978|      Kira| Schommer|              11.0|   5|     42|\n",
      "|          Business|17-02-1981| Christian|   Kiriam|              10.0|   6|     39|\n",
      "|  Machine Learning|01-01-1984|   Barbara|  Ballard|              14.0|   7|     36|\n",
      "|     Deep Learning|13-01-1978|      John|       --|              10.0|   8|     42|\n",
      "|  Machine Learning|26-12-1989|    Marcus|   Carson|              15.0|   9|     30|\n",
      "|           Physics|30-12-1987|     Marta|   Brooks|              11.0|  10|     32|\n",
      "|    Data Analytics|12-06-1975|     Holly| Schwartz|              12.0|  11|     44|\n",
      "|  Computer Science|02-07-1985|     April|    Black|11.736842105263158|  12|     35|\n",
      "|  Computer Science|22-07-1980|     Irene|  Bradley|              13.0|  13|     39|\n",
      "|        Psychology|07-02-1986|      Mark|    Weber|              12.0|  14|     34|\n",
      "|       Informatics|18-05-1987|     Rosie|   Norman|               9.0|  15|     33|\n",
      "|          Business|10-08-1984|    Martin|   Steele|               7.0|  16|     35|\n",
      "|  Machine Learning|16-12-1990|     Colin| Martinez|               9.0|  17|     29|\n",
      "|    Data Analytics|   unknown|   Bridget|    Twain|               6.0|  18|unknown|\n",
      "|          Business|07-03-1980|   Darlene|    Mills|                20|  19|     40|\n",
      "|    Data Analytics|02-06-1985|   Zachary|       --|              10.0|  20|     35|\n",
      "+------------------+----------+----------+---------+------------------+----+-------+\n",
      "\n"
     ]
    }
   ],
   "source": [
    "std_value = df.select(stddev (col('points')).alias('std') ).collect()[0]['std']\n",
    "def calculate_sd(points_col):\n",
    "    high = mean_value+std_value\n",
    "    if(points_col > high ):\n",
    "        return 20\n",
    "    else:\n",
    "        return points_col\n",
    "\n",
    "udfsomefunc = F.udf(calculate_sd, StringType())\n",
    "df_with_updated_points = df_with_age.withColumn(\"points\", udfsomefunc(\"points\"))\n",
    "df_with_updated_points.show()\n"
   ]
  },
  {
   "cell_type": "code",
   "execution_count": 17,
   "metadata": {},
   "outputs": [
    {
     "name": "stdout",
     "output_type": "stream",
     "text": [
      "[6, 7, 9, 9, 10, 10, 10, 10, 11, 11, 11, 12, 12, 12, 13, 14, 15, 20, 20, 20]\n"
     ]
    },
    {
     "data": {
      "image/png": "[encoded data removed]",
      "text/plain": [
       "<Figure size 432x288 with 1 Axes>"
      ]
     },
     "metadata": {
      "needs_background": "light"
     },
     "output_type": "display_data"
    }
   ],
   "source": [
    "points_for_histogram=sorted([int(literal_eval(row.points)) for row in df_with_updated_points.select(col('points')).collect()])\n",
    "print(points_for_histogram)\n",
    "fig, ax = plt.subplots()\n",
    "num_bins = 5\n",
    "\n",
    "ax.hist(points_for_histogram, num_bins)\n",
    "ax.set_xlabel('Points')\n",
    "ax.set_ylabel('BinCount')\n",
    "ax.set_title(r'Histogram of Points')\n",
    "\n",
    "# Tweak spacing to prevent clipping of ylabel\n",
    "fig.tight_layout()\n",
    "plt.show()"
   ]
  },
  {
   "cell_type": "code",
   "execution_count": 18,
   "metadata": {},
   "outputs": [],
   "source": [
    "sc.stop()"
   ]
  },
  {
   "cell_type": "code",
   "execution_count": null,
   "metadata": {},
   "outputs": [],
   "source": []
  }
 ],
 "metadata": {
  "kernelspec": {
   "display_name": "Python 3",
   "language": "python",
   "name": "python3"
  },
  "language_info": {
   "codemirror_mode": {
    "name": "ipython",
    "version": 3
   },
   "file_extension": ".py",
   "mimetype": "text/x-python",
   "name": "python",
   "nbconvert_exporter": "python",
   "pygments_lexer": "ipython3",
   "version": "3.7.7"
  }
 },
 "nbformat": 4,
 "nbformat_minor": 4
}
