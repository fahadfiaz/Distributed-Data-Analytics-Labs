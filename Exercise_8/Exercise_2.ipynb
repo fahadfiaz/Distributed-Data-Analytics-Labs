{
 "cells": [
  {
   "cell_type": "code",
   "execution_count": 1,
   "metadata": {},
   "outputs": [
    {
     "data": {
      "text/plain": [
       "'D:\\\\spark-2.4.6-bin-hadoop2.7'"
      ]
     },
     "execution_count": 1,
     "metadata": {},
     "output_type": "execute_result"
    }
   ],
   "source": [
    "import findspark\n",
    "import matplotlib.pyplot as plt\n",
    "findspark.init()\n",
    "findspark.find()\n",
    "import pyspark\n",
    "findspark.find()"
   ]
  },
  {
   "cell_type": "code",
   "execution_count": 2,
   "metadata": {},
   "outputs": [],
   "source": [
    "from pyspark import SparkContext, SparkConf\n",
    "import numpy as np\n",
    "import pandas as pd\n",
    "from pyspark.sql.functions import mean , stddev, col, to_date, date_format\n",
    "import pyspark.sql.functions as F\n",
    "from time import strptime\n",
    "import datetime\n",
    "from ast import literal_eval\n",
    "\n",
    "\n",
    "from pyspark.sql import SparkSession\n",
    "conf = pyspark.SparkConf().setAppName('SparkApp').setMaster('local')\n",
    "sc = pyspark.SparkContext(conf=conf)\n",
    "spark=SparkSession(sc)"
   ]
  },
  {
   "cell_type": "code",
   "execution_count": 3,
   "metadata": {},
   "outputs": [],
   "source": [
    "tags= sc.textFile('E:/DDA/Exercise_8/tags.dat').map(lambda line: line.split(\"::\")).collect()"
   ]
  },
  {
   "cell_type": "code",
   "execution_count": 4,
   "metadata": {},
   "outputs": [],
   "source": [
    "rdd_a=sc.parallelize(tags).toDF()\n",
    "rdd_a = rdd_a.withColumnRenamed(\"_1\", \"UserID\").withColumnRenamed(\"_2\", \"MovieID\").withColumnRenamed(\"_3\", \"Rating\").withColumnRenamed(\"_4\", \"Timestamp\")"
   ]
  },
  {
   "cell_type": "code",
   "execution_count": 5,
   "metadata": {},
   "outputs": [],
   "source": [
    "timestamp=[(literal_eval(i.UserID),literal_eval(i.Timestamp)) for i in rdd_a.collect()]"
   ]
  },
  {
   "cell_type": "code",
   "execution_count": 6,
   "metadata": {},
   "outputs": [
    {
     "data": {
      "text/plain": [
       "[(15, 1),\n",
       " (20, 1),\n",
       " (20, 1),\n",
       " (20, 1),\n",
       " (20, 1),\n",
       " (20, 1),\n",
       " (20, 1),\n",
       " (20, 1),\n",
       " (20, 1),\n",
       " (20, 1),\n",
       " (20, 1),\n",
       " (20, 1),\n",
       " (20, 1),\n",
       " (21, 1),\n",
       " (21, 1),\n",
       " (25, 1),\n",
       " (25, 1),\n",
       " (31, 1),\n",
       " (31, 1),\n",
       " (31, 1),\n",
       " (31, 1),\n",
       " (31, 1),\n",
       " (32, 1),\n",
       " (39, 1),\n",
       " (39, 1),\n",
       " (39, 1),\n",
       " (39, 1),\n",
       " (39, 1),\n",
       " (48, 1),\n",
       " (48, 1),\n",
       " (49, 1),\n",
       " (49, 1),\n",
       " (49, 1),\n",
       " (49, 1),\n",
       " (49, 1),\n",
       " (49, 1),\n",
       " (49, 1),\n",
       " (49, 1),\n",
       " (49, 1),\n",
       " (49, 1),\n",
       " (49, 1),\n",
       " (49, 1),\n",
       " (49, 1),\n",
       " (49, 1),\n",
       " (49, 1),\n",
       " (75, 1),\n",
       " (78, 1),\n",
       " (109, 1),\n",
       " (109, 1),\n",
       " (109, 2),\n",
       " (109, 3),\n",
       " (109, 4),\n",
       " (109, 1),\n",
       " (109, 2),\n",
       " (109, 1),\n",
       " (109, 1),\n",
       " (109, 1),\n",
       " (109, 2),\n",
       " (109, 3),\n",
       " (109, 4),\n",
       " (109, 1),\n",
       " (109, 1),\n",
       " (109, 2),\n",
       " (109, 1),\n",
       " (109, 2),\n",
       " (109, 3),\n",
       " (109, 4),\n",
       " (109, 5),\n",
       " (109, 1),\n",
       " (109, 2),\n",
       " (109, 3),\n",
       " (109, 1),\n",
       " (127, 1),\n",
       " (127, 1),\n",
       " (127, 1),\n",
       " (127, 1),\n",
       " (127, 1),\n",
       " (127, 1),\n",
       " (127, 1),\n",
       " (127, 1),\n",
       " (127, 1),\n",
       " (127, 1),\n",
       " (127, 1),\n",
       " (127, 1),\n",
       " (127, 1),\n",
       " (127, 1),\n",
       " (127, 1),\n",
       " (127, 1),\n",
       " (127, 1),\n",
       " (127, 1),\n",
       " (127, 1),\n",
       " (127, 1),\n",
       " (127, 1),\n",
       " (127, 1),\n",
       " (127, 1),\n",
       " (127, 1),\n",
       " (127, 1),\n",
       " (127, 1)]"
      ]
     },
     "execution_count": 6,
     "metadata": {},
     "output_type": "execute_result"
    }
   ],
   "source": [
    "def total_time(tags):\n",
    "    user_duration = []\n",
    "    user_duration.append((tags[0][0],0))\n",
    "    for i in range(1,99):\n",
    "        if tags[i][0] == tags[i-1][0]:\n",
    "            duration = tags[i][1] - tags[i+1][1]\n",
    "            duration = abs(duration)\n",
    "            duration = duration / 60\n",
    "            user_duration.append((tags[i][0],duration))\n",
    "        elif not tags[i][0] == tags[i-1][0]:\n",
    "            user_duration.append((tags[i][0],0))\n",
    "    return user_duration\n",
    "\n",
    "def calculate_user_session(tag_updated_duration):\n",
    "    x = 1\n",
    "    session_list = []\n",
    "    session_list.append((tag_updated_duration[0][0],1))\n",
    "    for i in range(1,98):\n",
    "        if tag_updated_duration[i][0] == tag_updated_duration[i+1][0] and tag_updated_duration[i][1] <30:\n",
    "            x = 1\n",
    "        elif tag_updated_duration[i][0] == tag_updated_duration[i+1][0] and tag_updated_duration[i][1] >=30:\n",
    "            x = x + 1\n",
    "        elif not tag_updated_duration[i][0] == tag_updated_duration[i+1][0]:\n",
    "            x = 1\n",
    "        session_list.append((tag_updated_duration[i][0],x))\n",
    "    return  session_list    \n",
    "\n",
    "tag_updated_duration = total_time(timestamp[:100])\n",
    "tags_session = calculate_user_session(tag_updated_duration)\n",
    "tags_session"
   ]
  },
  {
   "cell_type": "code",
   "execution_count": 7,
   "metadata": {},
   "outputs": [
    {
     "name": "stdout",
     "output_type": "stream",
     "text": [
      "{(15, 1): 1, (20, 1): 12, (21, 1): 2, (25, 1): 2, (31, 1): 5, (32, 1): 1, (39, 1): 5, (48, 1): 2, (49, 1): 15, (75, 1): 1, (78, 1): 1, (109, 1): 11, (109, 2): 6, (109, 3): 4, (109, 4): 3, (109, 5): 1, (127, 1): 26}\n"
     ]
    }
   ],
   "source": [
    "def calculate_frequency(tag_session):\n",
    "    dic={}\n",
    "    for i in range(len(tag_session)):\n",
    "        if (tag_session[i][0],tag_session[i][1]) in dic:\n",
    "            dic[(tag_session[i][0],tag_session[i][1])] += 1\n",
    "        else:\n",
    "            dic[(tag_session[i][0],tag_session[i][1])] =1\n",
    "    return dic\n",
    "\n",
    "frequency_list=calculate_frequency(tags_session)\n",
    "print(frequency_list)"
   ]
  },
  {
   "cell_type": "code",
   "execution_count": 10,
   "metadata": {},
   "outputs": [],
   "source": [
    "def each_and_across_user(frequency_list):\n",
    "    sd = {}\n",
    "    updated = {}\n",
    "    dic_updated = {}\n",
    "    complete_data = []\n",
    "    for key1 in frequency_list:\n",
    "        if(key1[0] not in dic_updated):\n",
    "            dic_updated[key1[0]] = []\n",
    "        dic_updated[key1[0]].append(key1[1])\n",
    "        complete_data.append(key1[1])    \n",
    "    for key2 in dic_updated:\n",
    "        updated[key2] = np.mean(dic_updated[key2])        \n",
    "        sd[key2] = np.std(dic_updated[key2])\n",
    "    across_mean = np.mean(complete_data)\n",
    "    acrosss_sd = np.std(complete_data)\n",
    "    \n",
    "    print(\"Each User Mean: \" ,updated)\n",
    "    print(\"Each User Sd: \" ,sd)\n",
    "    print(\"Each Across User Mean: \" ,across_mean)\n",
    "    print(\"Each Across User Sd: \",acrosss_sd)\n",
    "    print(\"Each Final Data: \" ,complete_data)\n",
    "\n"
   ]
  },
  {
   "cell_type": "code",
   "execution_count": 11,
   "metadata": {},
   "outputs": [
    {
     "name": "stdout",
     "output_type": "stream",
     "text": [
      "Each User Mean:  {15: 1.0, 20: 1.0, 21: 1.0, 25: 1.0, 31: 1.0, 32: 1.0, 39: 1.0, 48: 1.0, 49: 1.0, 75: 1.0, 78: 1.0, 109: 3.0, 127: 1.0}\n",
      "Each User Sd:  {15: 0.0, 20: 0.0, 21: 0.0, 25: 0.0, 31: 0.0, 32: 0.0, 39: 0.0, 48: 0.0, 49: 0.0, 75: 0.0, 78: 0.0, 109: 1.4142135623730951, 127: 0.0}\n",
      "Each Across User Mean:  1.588235294117647\n",
      "Each Across User Sd:  1.1910856900774465\n",
      "Each Final Data:  [1, 1, 1, 1, 1, 1, 1, 1, 1, 1, 1, 1, 2, 3, 4, 5, 1]\n"
     ]
    }
   ],
   "source": [
    "each_and_across_user(frequency_list)"
   ]
  }
 ],
 "metadata": {
  "kernelspec": {
   "display_name": "Python 3",
   "language": "python",
   "name": "python3"
  },
  "language_info": {
   "codemirror_mode": {
    "name": "ipython",
    "version": 3
   },
   "file_extension": ".py",
   "mimetype": "text/x-python",
   "name": "python",
   "nbconvert_exporter": "python",
   "pygments_lexer": "ipython3",
   "version": "3.7.7"
  }
 },
 "nbformat": 4,
 "nbformat_minor": 4
}
